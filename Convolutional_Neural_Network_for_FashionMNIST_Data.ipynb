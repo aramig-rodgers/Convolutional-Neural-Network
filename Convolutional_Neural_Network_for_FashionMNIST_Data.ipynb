{
  "nbformat": 4,
  "nbformat_minor": 0,
  "metadata": {
    "colab": {
      "provenance": [],
      "gpuType": "T4"
    },
    "kernelspec": {
      "name": "python3",
      "display_name": "Python 3"
    },
    "language_info": {
      "name": "python"
    },
    "accelerator": "GPU"
  },
  "cells": [
    {
      "cell_type": "markdown",
      "source": [
        "# Convolutional Neural Networks\n",
        "Anastasia Ramig\n",
        "\n",
        "## Introduction\n",
        "Convolutional Neural Networks (CNNs) are a specialized type of neural network designed to process data structured in a grid, such as images. CNNs are commonly used in tasks like image recognition, object detection, and video analysis due to their ability to learn spatial hierarchies of features.\n",
        "\n",
        "This notebook trains and validates a CNN on the Fashion MNIST dataset. This dataset contains images of pieces of clothing that can be classified as any of the following:\n",
        "- 0: T-Shirt/Top\n",
        "- 1: Trouser\n",
        "- 2: Pullover\n",
        "- 3: Dress\n",
        "- 4: Coat\n",
        "- 5: Sandal\n",
        "- 6: Shirt\n",
        "- 7: Sneaker\n",
        "- 8: Bag\n",
        "- 9: Ankle Boot"
      ],
      "metadata": {
        "id": "VJcJNMmolJoE"
      }
    },
    {
      "cell_type": "code",
      "execution_count": 1,
      "metadata": {
        "id": "-Vb8NODqmOJc"
      },
      "outputs": [],
      "source": [
        "## Import necessary libraries\n",
        "import pathlib\n",
        "import time\n",
        "\n",
        "import ipywidgets\n",
        "import matplotlib.pyplot as plt\n",
        "import numpy as np\n",
        "import polars as pl\n",
        "import seaborn as sns\n",
        "\n",
        "from sklearn.model_selection import train_test_split\n",
        "import torch\n",
        "import torch.nn as nn\n",
        "import torch.optim as optim\n",
        "from torch.utils.data import DataLoader, Dataset\n",
        "from tqdm.auto import tqdm"
      ]
    },
    {
      "cell_type": "markdown",
      "source": [
        "**Note:** This notebook is set up to run on a GPU if there is one available. If not, it will run on a CPU."
      ],
      "metadata": {
        "id": "3OWGRLzjof3U"
      }
    },
    {
      "cell_type": "code",
      "source": [
        "device = torch.device('cuda' if torch.cuda.is_available() else 'cpu')\n",
        "print(f\"Using device: {device}\")"
      ],
      "metadata": {
        "colab": {
          "base_uri": "https://localhost:8080/"
        },
        "id": "C8rpunGExCwz",
        "outputId": "a4d2b29a-6680-4fd1-f69e-4138c6305f9f"
      },
      "execution_count": 2,
      "outputs": [
        {
          "output_type": "stream",
          "name": "stdout",
          "text": [
            "Using device: cuda\n"
          ]
        }
      ]
    },
    {
      "cell_type": "markdown",
      "source": [
        "**Note:** The data in this notebook is run in Google Colab. The Fashion MNIST data files are accessed through Google Drive, which is mounted to the notebook in the cell below."
      ],
      "metadata": {
        "id": "ljl2y_3Boq1D"
      }
    },
    {
      "cell_type": "code",
      "source": [
        "from google.colab import drive\n",
        "drive.mount('/content/drive')"
      ],
      "metadata": {
        "colab": {
          "base_uri": "https://localhost:8080/"
        },
        "id": "pZbPKI09hqab",
        "outputId": "a1ef9d7b-8ecf-4bac-c772-7eda4555689d"
      },
      "execution_count": 3,
      "outputs": [
        {
          "output_type": "stream",
          "name": "stdout",
          "text": [
            "Mounted at /content/drive\n"
          ]
        }
      ]
    },
    {
      "cell_type": "code",
      "source": [
        "torch.manual_seed(0)\n",
        "if torch.cuda.is_available():\n",
        "    torch.cuda.manual_seed(42)"
      ],
      "metadata": {
        "id": "MzKJ5EBvxD5Z"
      },
      "execution_count": 4,
      "outputs": []
    },
    {
      "cell_type": "markdown",
      "source": [
        "## Section 1: Baseline Model\n",
        "\n",
        "The first section of this notebook builds a baseline model against which we can compare runtimes and accuracy for future models.The data is read in from CSV files and is split into a training and a testing set. From there, we further split the training set into a training and validation model. The data features consist of the individual pixels in the photo, and the data target is the label that corresponds to the type of clothing. A sample image is shown below."
      ],
      "metadata": {
        "id": "6M3nMxFipMhf"
      }
    },
    {
      "cell_type": "code",
      "source": [
        "# Set the filepaths for the training and testing data\n",
        "train_data_filepath = pathlib.Path(r'/content/drive/MyDrive/data/fashion-mnist_train.csv')\n",
        "test_data_filepath = pathlib.Path(r'/content/drive/MyDrive/data/fashion-mnist_test.csv')\n",
        "\n",
        "## Read the data in as a polars DataFrame and split it into features and target data.\n",
        "train_data = pl.read_csv(\n",
        "    train_data_filepath\n",
        ")\n",
        "\n",
        "feature_ls = [col for col in train_data.columns if col!= 'label']\n",
        "train_features = train_data.select(\n",
        "    feature_ls\n",
        ").with_columns(\n",
        "    pl.all()/255.0\n",
        ")\n",
        "\n",
        "train_targets = train_data.select(\n",
        "    'label'\n",
        ").cast(\n",
        "    pl.Int32\n",
        ").to_dummies()\n",
        "\n",
        "test_data = pl.read_csv(\n",
        "    test_data_filepath\n",
        ")\n",
        "\n",
        "test_features = test_data.select(\n",
        "    feature_ls\n",
        ").with_columns(\n",
        "    pl.all()/255.0\n",
        ")\n",
        "\n",
        "test_targets = test_data.select(\n",
        "    'label'\n",
        ").cast(\n",
        "    pl.Int32\n",
        ").to_dummies()"
      ],
      "metadata": {
        "id": "a68_HHelm4WC"
      },
      "execution_count": 5,
      "outputs": []
    },
    {
      "cell_type": "code",
      "source": [
        "## Display a test image to help give an understanding of the dataset.\n",
        "test_image = train_features[0].to_numpy().reshape(28, 28)\n",
        "\n",
        "fig, ax = plt.subplots(1, 1, figsize=(5, 5))\n",
        "\n",
        "ax.imshow(\n",
        "    test_image,\n",
        "    cmap='gray',\n",
        "    vmin=0,\n",
        "    vmax=1\n",
        ")\n",
        "\n",
        "plt.show()"
      ],
      "metadata": {
        "colab": {
          "base_uri": "https://localhost:8080/",
          "height": 445
        },
        "id": "wqfDGuzmpNM_",
        "outputId": "9baf4bb9-b4eb-41b1-ed7f-b4e4b21bd7d5"
      },
      "execution_count": 6,
      "outputs": [
        {
          "output_type": "display_data",
          "data": {
            "text/plain": [
              "<Figure size 500x500 with 1 Axes>"
            ],
            "image/png": "[encoded data removed]"
          },
          "metadata": {}
        }
      ]
    },
    {
      "cell_type": "markdown",
      "source": [
        "To build our convolutional neural network, we must first create a custom  class for our dataset.This allows us to use a Dataloader to batch the data and send it through the PyTorch model in smaller increments.\n",
        "\n",
        "When the data is loaded, we must split it into the features and target sets. We one hot encode the target data and divide the feature data by 255 to convert all values to be between [0, 1]. From this loaded data, we use the MNISTDataset class that we create below to create PyTorch Dataset objects for each set."
      ],
      "metadata": {
        "id": "1ZQn934ap9RC"
      }
    },
    {
      "cell_type": "code",
      "source": [
        "## Define an MNISTDataset class to allow us to build our DataLoaders later on.\n",
        "class MNISTDataset(Dataset):\n",
        "    def __init__(self, features, targets):\n",
        "        self.features = features\n",
        "        self.targets = targets\n",
        "\n",
        "    def __len__(self):\n",
        "        return len(self.features)\n",
        "\n",
        "    def __getitem__(self, idx):\n",
        "        image = self.features[idx].reshape(28, 28).astype('float32')\n",
        "        label = self.targets[idx].astype('float32')\n",
        "        return torch.tensor(image), torch.tensor(label)"
      ],
      "metadata": {
        "id": "bfl3ZzVhpSuW"
      },
      "execution_count": 7,
      "outputs": []
    },
    {
      "cell_type": "code",
      "source": [
        "# Set the filepaths for the training and testing data\n",
        "train_data_filepath = pathlib.Path(r'/content/drive/MyDrive/data/fashion-mnist_train.csv')\n",
        "test_data_filepath = pathlib.Path(r'/content/drive/MyDrive/data/fashion-mnist_test.csv')\n",
        "\n",
        "## Read the data in as a polars DataFrame and split it into features and target data.\n",
        "train_data = pl.read_csv(\n",
        "    train_data_filepath\n",
        ")\n",
        "\n",
        "feature_ls = [col for col in train_data.columns if col!= 'label']\n",
        "X_train_val = train_data.select(\n",
        "    feature_ls\n",
        ").with_columns(\n",
        "    pl.all()/255.0\n",
        ")\n",
        "y_train_val = train_data.select(\n",
        "    'label'\n",
        ").cast(\n",
        "    pl.Int32\n",
        ").to_dummies()\n",
        "\n",
        "X_train_val = X_train_val.to_numpy()\n",
        "y_train_val = y_train_val.to_numpy()\n",
        "\n",
        "X_train, X_val, y_train, y_val = train_test_split(\n",
        "    X_train_val,\n",
        "    y_train_val,\n",
        "    test_size=0.08,\n",
        "    random_state=42,\n",
        ")\n",
        "\n",
        "\n",
        "test_data = pl.read_csv(\n",
        "    test_data_filepath\n",
        ")\n",
        "X_test = test_data.select(\n",
        "    feature_ls\n",
        ").with_columns(\n",
        "    pl.all()/255.0\n",
        ").to_numpy()\n",
        "y_test = test_data.select(\n",
        "    'label'\n",
        ").cast(\n",
        "    pl.Int32\n",
        ").to_dummies().to_numpy()\n",
        "\n",
        "## Use the MNISTDataset class to build PyTorch datasets for training, validation, and testing.\n",
        "train_dataset = MNISTDataset(X_train, y_train)\n",
        "val_dataset = MNISTDataset(X_val, y_val)\n",
        "test_dataset = MNISTDataset(X_test, y_test)"
      ],
      "metadata": {
        "id": "SqA8yw6upXEl"
      },
      "execution_count": 8,
      "outputs": []
    },
    {
      "cell_type": "markdown",
      "source": [
        "### Defining the Model\n",
        "\n",
        "The simple CNN that we will use has the following structure:\n",
        "\n",
        "Input Layer -> Conv1 Layer -> Relu -> Max Pooling 1 -> Conv2 Layer -> Relu -> Max Pooling 2 -> Flatten Layer -> FC1 -> Relu -> FC2 Layer\n",
        "\n",
        "The layers are detailed below:\n",
        "*   Convolutional Layers\n",
        "  * These are the prominent distinguishing feature from other neural network architectures. The convolutional layers correspond to filters (kernels) slid across the input data to extract local features. Each filter detects different patterns, such as edges or textures.\n",
        "* Pooling Layers\n",
        "  * Pooling layers reduce the data's spatial dimensions (height and width) using techniques like max pooling or average pooling. Pooling reduces the number of parameters, reduces computational costs, and helps limit overfitting.\n",
        "* Activation Functions\n",
        "  * Activation functions, such as ReLU, are applied to introduce non-linearity into the model, allowing the network to learn more complex patterns.\n",
        "* Fully Connected Layers\n",
        "  * In a CNN, fully connected layers are applied near the network's end to combine features learned by the convolutional and pooling layers to make final predictions.\n",
        "\n",
        "The initial parameters that we need to define for our model are the number of epochs, the batch size, and the learning rate. An epoch is a complete pass through of all the data through the CNN. After each epoch, the weights of the model can be adjusted to provide a better fit for the data. We will use 10 epochs for this example. The batch size dictates the number of images that are passed through the CNN at one time. The learning rate determines how much the model's weights are readjusted after each epoch.\n",
        "\n"
      ],
      "metadata": {
        "id": "1eAxVupEqVFf"
      }
    },
    {
      "cell_type": "code",
      "source": [
        "## Define the model class for the CNN\n",
        "class SimpleCNN(nn.Module):\n",
        "    def __init__(self):\n",
        "        super(SimpleCNN, self).__init__()\n",
        "        ## The out_channels is the number of features that we will experiment with later on.\n",
        "        ## The kernel size is the filter size that we will experiment with later on.\n",
        "        self.conv1 = nn.Conv2d(in_channels=1, out_channels=32, kernel_size=3)\n",
        "        self.relu1 = nn.ReLU()\n",
        "        self.pool1 = nn.MaxPool2d(2, 2)\n",
        "        self.conv2 = nn.Conv2d(in_channels=32, out_channels=64, kernel_size=3)\n",
        "        self.relu2 = nn.ReLU()\n",
        "        self.pool2 = nn.MaxPool2d(2, 2)\n",
        "        self.fc1 = nn.Linear(64 * 5 * 5, 128)\n",
        "        self.relufc = nn.ReLU()\n",
        "        self.fc2 = nn.Linear(128, 10)\n",
        "\n",
        "\n",
        "    def forward(self, x):\n",
        "        x = self.conv1(x)\n",
        "        x = self.relu1(x)\n",
        "        x = self.pool1(x)\n",
        "        x = self.conv2(x)\n",
        "        x = self.relu2(x)\n",
        "        x = self.pool2(x)\n",
        "        x = x.view(-1, 64 * 5 * 5)\n",
        "        x = self.fc1(x)\n",
        "        x = self.relufc(x)\n",
        "        x = self.fc2(x)\n",
        "        return x"
      ],
      "metadata": {
        "id": "bqB2WiZtp6gs"
      },
      "execution_count": 24,
      "outputs": []
    },
    {
      "cell_type": "code",
      "source": [
        "## Set the initial parameters for the baseline model.\n",
        "num_epochs = 10\n",
        "batch_size = 64\n",
        "learning_rate = 0.001"
      ],
      "metadata": {
        "id": "7etsqH3FjFoo"
      },
      "execution_count": 25,
      "outputs": []
    },
    {
      "cell_type": "code",
      "source": [
        "## Build PyTorch DataLoaders using the training, validation, and testing PyTorch datasets.\n",
        "train_loader = DataLoader(\n",
        "    dataset=train_dataset,\n",
        "    batch_size=batch_size,\n",
        "    shuffle=True,\n",
        ")\n",
        "val_loader = DataLoader(\n",
        "    dataset=val_dataset,\n",
        "    batch_size=batch_size,\n",
        "    shuffle=False,\n",
        ")\n",
        "test_loader = DataLoader(\n",
        "    dataset=test_dataset,\n",
        "    batch_size=batch_size,\n",
        "    shuffle=False,\n",
        ")"
      ],
      "metadata": {
        "id": "y8q5d1TwqMQX"
      },
      "execution_count": 26,
      "outputs": []
    },
    {
      "cell_type": "code",
      "source": [
        "## Establish an instance of our CNN model\n",
        "model = SimpleCNN()\n",
        "model"
      ],
      "metadata": {
        "colab": {
          "base_uri": "https://localhost:8080/"
        },
        "id": "hscaX4CfqN3Y",
        "outputId": "4b642c63-b21c-4ad5-b710-f73b4f1351fb"
      },
      "execution_count": 27,
      "outputs": [
        {
          "output_type": "execute_result",
          "data": {
            "text/plain": [
              "SimpleCNN(\n",
              "  (conv1): Conv2d(1, 32, kernel_size=(3, 3), stride=(1, 1))\n",
              "  (relu1): ReLU()\n",
              "  (pool1): MaxPool2d(kernel_size=2, stride=2, padding=0, dilation=1, ceil_mode=False)\n",
              "  (conv2): Conv2d(32, 64, kernel_size=(3, 3), stride=(1, 1))\n",
              "  (relu2): ReLU()\n",
              "  (pool2): MaxPool2d(kernel_size=2, stride=2, padding=0, dilation=1, ceil_mode=False)\n",
              "  (fc1): Linear(in_features=1600, out_features=128, bias=True)\n",
              "  (relufc): ReLU()\n",
              "  (fc2): Linear(in_features=128, out_features=10, bias=True)\n",
              ")"
            ]
          },
          "metadata": {},
          "execution_count": 27
        }
      ]
    },
    {
      "cell_type": "markdown",
      "source": [
        "The cell below trains the model on the train dataset and then validates it on our validation dataset. To understand the improvement of the CNN from epoch to epoch, we will track the training loss and the validation loss. The loss from each quantifies the difference between the model's predictions and the actual labels from either the training or validation set. The lower the loss, the better the model's performance. We will also keep track of the computational time to help us evaluate the performance of other hyperparameters during the experimentation portion."
      ],
      "metadata": {
        "id": "RXTZVgs1vt9-"
      }
    },
    {
      "cell_type": "code",
      "source": [
        "## The to(device) instances in the cell below allow us to run the model on a GPU if there is one available\n",
        "model = SimpleCNN().to(device)\n",
        "criterion = nn.CrossEntropyLoss()\n",
        "optimizer = optim.Adam(model.parameters(), lr=learning_rate)\n",
        "\n",
        "start_time = time.time()\n",
        "\n",
        "## Train and validate the model for the set number of epochs.\n",
        "training_history = []\n",
        "for epoch in range(num_epochs):\n",
        "    model.train()\n",
        "    running_training_loss = 0.0\n",
        "    for images, labels in train_loader:\n",
        "        images = images.unsqueeze(1).to(device)\n",
        "        labels = labels.to(device)\n",
        "        optimizer.zero_grad()\n",
        "        outputs = model(images)\n",
        "        loss = criterion(outputs, labels)\n",
        "        loss.backward()\n",
        "        optimizer.step()\n",
        "        running_training_loss += loss.item()\n",
        "\n",
        "    training_loss = running_training_loss / len(train_loader)\n",
        "    training_history.append({\n",
        "        'epoch': epoch+1,\n",
        "        'phase': 'Training',\n",
        "        'loss': training_loss\n",
        "    })\n",
        "\n",
        "    # Validation step\n",
        "    model.eval()\n",
        "    running_val_loss = 0.0\n",
        "    with torch.no_grad():\n",
        "        for images, labels in val_loader:\n",
        "            images = images.unsqueeze(1).to(device)\n",
        "            labels = labels.to(device)\n",
        "            outputs = model(images)\n",
        "            loss = criterion(outputs, labels)\n",
        "            running_val_loss += loss.item()\n",
        "\n",
        "    validation_loss = running_val_loss / len(val_loader)\n",
        "    training_history.append({\n",
        "        'epoch': epoch+1,\n",
        "        'phase': 'Validation',\n",
        "        'loss': validation_loss\n",
        "    })\n",
        "\n",
        "    print(f\"Epoch [{epoch+1}/{num_epochs}], Training Loss: {training_loss:.4f}, Validation Loss: {validation_loss:.4f}\")\n",
        "\n",
        "end_time = time.time()\n",
        "baseline_elapsed_time = end_time - start_time\n",
        "print(f' - Training for {num_epochs} epochs took {baseline_elapsed_time:.2f} seconds.')"
      ],
      "metadata": {
        "colab": {
          "base_uri": "https://localhost:8080/"
        },
        "id": "hE8Xdef2qRmo",
        "outputId": "a02fe343-1b9a-47a2-9888-8dee4fc4aec6"
      },
      "execution_count": 28,
      "outputs": [
        {
          "output_type": "stream",
          "name": "stdout",
          "text": [
            "Epoch [1/10], Training Loss: 0.5396, Validation Loss: 0.3862\n",
            "Epoch [2/10], Training Loss: 0.3466, Validation Loss: 0.3070\n",
            "Epoch [3/10], Training Loss: 0.2932, Validation Loss: 0.2823\n",
            "Epoch [4/10], Training Loss: 0.2607, Validation Loss: 0.2799\n",
            "Epoch [5/10], Training Loss: 0.2353, Validation Loss: 0.2567\n",
            "Epoch [6/10], Training Loss: 0.2140, Validation Loss: 0.2457\n",
            "Epoch [7/10], Training Loss: 0.1960, Validation Loss: 0.2548\n",
            "Epoch [8/10], Training Loss: 0.1750, Validation Loss: 0.2324\n",
            "Epoch [9/10], Training Loss: 0.1590, Validation Loss: 0.2461\n",
            "Epoch [10/10], Training Loss: 0.1450, Validation Loss: 0.2483\n",
            " - Training for 10 epochs took 37.17 seconds.\n"
          ]
        }
      ]
    },
    {
      "cell_type": "code",
      "source": [
        "## Plot the training and validation losses to visualize the model's improvement over time.\n",
        "training_history_df = pl.DataFrame(training_history)\n",
        "\n",
        "fig, ax = plt.subplots(1, 1, figsize=(6, 4))\n",
        "\n",
        "sns.lineplot(\n",
        "    training_history_df,\n",
        "    x='epoch',\n",
        "    y='loss',\n",
        "    hue='phase',\n",
        ")\n",
        "ax.set_xlabel('Epoch')\n",
        "ax.set_ylabel('Loss')\n",
        "ax.legend(title='Phase')\n",
        "ax.spines[['right', 'top']].set_visible(False)"
      ],
      "metadata": {
        "colab": {
          "base_uri": "https://localhost:8080/",
          "height": 388
        },
        "id": "v_Vtl3g5qe_w",
        "outputId": "70feb046-8b63-4392-85aa-5fcc670e2dc0"
      },
      "execution_count": 29,
      "outputs": [
        {
          "output_type": "display_data",
          "data": {
            "text/plain": [
              "<Figure size 600x400 with 1 Axes>"
            ],
            "image/png": "[encoded data removed]"
          },
          "metadata": {}
        }
      ]
    },
    {
      "cell_type": "markdown",
      "source": [
        "The final step to understanding the performance of our CNN is evaluating its accuracy on the test dataset."
      ],
      "metadata": {
        "id": "4qpJhXz9wSgs"
      }
    },
    {
      "cell_type": "code",
      "source": [
        "## Evaluate the accuracy of the CNN model on the test dataset.\n",
        "model.eval()\n",
        "correct = 0\n",
        "total = 0\n",
        "with torch.no_grad():\n",
        "    for images, labels in test_loader:\n",
        "        images = images.unsqueeze(1).to(device)\n",
        "        labels = labels.to(device)\n",
        "        outputs = model(images)\n",
        "        _, predicted = torch.max(outputs.data, 1)\n",
        "        total += labels.size(0)\n",
        "        correct += (predicted == labels.argmax(axis=1)).sum().item()\n",
        "baseline_accuracy = 100 * correct / total\n",
        "print(f\"Accuracy of the model on the test images: {baseline_accuracy:.2f}%\")"
      ],
      "metadata": {
        "colab": {
          "base_uri": "https://localhost:8080/"
        },
        "id": "G4suyvcWqnuq",
        "outputId": "f2b72591-5207-4cf1-c967-4f2a7b29980d"
      },
      "execution_count": 30,
      "outputs": [
        {
          "output_type": "stream",
          "name": "stdout",
          "text": [
            "Accuracy of the model on the test images: 91.58%\n"
          ]
        }
      ]
    },
    {
      "cell_type": "markdown",
      "source": [
        "## Section 2: Experimentation\n",
        "\n",
        "The next portion of this notebook will run an experiment that changes various hyperparameters of our CNN to observe their effects on computational time and predictive accuracy on the test set. The hyperparameters we will observe are:\n",
        "\n",
        "* Filter Size\n",
        "  * This dictates the size of the convolutional filters applied in the Conv1 and Conv2 layers. We will look at the results using a 3x3 and a 5x5 filter.\n",
        "* Number of Features\n",
        "  * This is the number of output channels in each convolutional layer. We will try to halve the number of features in the baseline model (16) and to double the number (64).\n",
        "* Batch Size\n",
        "  * This is the number of images that is passed through the CNN at one time. We will experiment with batch sizes of 32, 64, and 128.\n",
        "\n",
        "Our first step in this portion is to define the building of the CNN as functions to allow us to easily change the filter size, number of features, and batch size.\n",
        "\n"
      ],
      "metadata": {
        "id": "UpEdYVfOuAbM"
      }
    },
    {
      "cell_type": "code",
      "source": [
        "def define_CNN(out_features, filter_size, pool2_out):\n",
        "  class SimpleCNN(nn.Module):\n",
        "      def __init__(self):\n",
        "          super(SimpleCNN, self).__init__()\n",
        "          self.conv1 = nn.Conv2d(in_channels=1, out_channels=out_features, kernel_size=filter_size)\n",
        "          self.relu1 = nn.ReLU()\n",
        "          self.pool1 = nn.MaxPool2d(2, 2)\n",
        "          self.conv2 = nn.Conv2d(in_channels=out_features, out_channels=out_features * 2, kernel_size=filter_size)\n",
        "          self.relu2 = nn.ReLU()\n",
        "          self.pool2 = nn.MaxPool2d(2, 2)\n",
        "          self.fc1 = nn.Linear(out_features * 2 * pool2_out * pool2_out, 128)\n",
        "          self.relufc = nn.ReLU()\n",
        "          self.fc2 = nn.Linear(128, 10)\n",
        "\n",
        "\n",
        "      def forward(self, x):\n",
        "          x = self.conv1(x)\n",
        "          x = self.relu1(x)\n",
        "          x = self.pool1(x)\n",
        "          x = self.conv2(x)\n",
        "          x = self.relu2(x)\n",
        "          x = self.pool2(x)\n",
        "          x = x.view(-1, out_features * 2 * pool2_out * pool2_out)\n",
        "          x = self.fc1(x)\n",
        "          x = self.relufc(x)\n",
        "          x = self.fc2(x)\n",
        "          return x\n",
        "  return SimpleCNN()"
      ],
      "metadata": {
        "id": "5sdwBmCsqPPM"
      },
      "execution_count": 17,
      "outputs": []
    },
    {
      "cell_type": "code",
      "source": [
        "def build_loaders(batch_size):\n",
        "  train_loader = DataLoader(\n",
        "      dataset=train_dataset,\n",
        "      batch_size=batch_size,\n",
        "      shuffle=True,\n",
        "  )\n",
        "  val_loader = DataLoader(\n",
        "      dataset=val_dataset,\n",
        "      batch_size=batch_size,\n",
        "      shuffle=False,\n",
        "  )\n",
        "  test_loader = DataLoader(\n",
        "      dataset=test_dataset,\n",
        "      batch_size=batch_size,\n",
        "      shuffle=False,\n",
        "  )\n",
        "  return train_loader, val_loader, test_loader"
      ],
      "metadata": {
        "id": "RKswo10ly_9-"
      },
      "execution_count": 18,
      "outputs": []
    },
    {
      "cell_type": "code",
      "source": [
        "def train_val_model(model):\n",
        "  model = model.to(device)\n",
        "  criterion = nn.CrossEntropyLoss()\n",
        "  optimizer = optim.Adam(model.parameters(), lr=learning_rate)\n",
        "\n",
        "  start_time = time.time()\n",
        "\n",
        "  training_history = []\n",
        "  for epoch in range(num_epochs):\n",
        "      model.train()\n",
        "      running_training_loss = 0.0\n",
        "      for images, labels in train_loader:\n",
        "          images = images.unsqueeze(1).to(device)\n",
        "          labels = labels.to(device)\n",
        "          optimizer.zero_grad()\n",
        "          outputs = model(images)\n",
        "          loss = criterion(outputs, labels)\n",
        "          loss.backward()\n",
        "          optimizer.step()\n",
        "          running_training_loss += loss.item()\n",
        "\n",
        "      training_loss = running_training_loss / len(train_loader)\n",
        "      training_history.append({\n",
        "          'epoch': epoch+1,\n",
        "          'phase': 'Training',\n",
        "          'loss': training_loss\n",
        "      })\n",
        "\n",
        "      # Validation step\n",
        "      model.eval()\n",
        "      running_val_loss = 0.0\n",
        "      with torch.no_grad():\n",
        "          for images, labels in val_loader:\n",
        "              images = images.unsqueeze(1).to(device)\n",
        "              labels = labels.to(device)\n",
        "              outputs = model(images)\n",
        "              loss = criterion(outputs, labels)\n",
        "              running_val_loss += loss.item()\n",
        "\n",
        "      validation_loss = running_val_loss / len(val_loader)\n",
        "      training_history.append({\n",
        "          'epoch': epoch+1,\n",
        "          'phase': 'Validation',\n",
        "          'loss': validation_loss\n",
        "      })\n",
        "\n",
        "      print(f\"Epoch [{epoch+1}/{num_epochs}], Training Loss: {training_loss:.4f}, Validation Loss: {validation_loss:.4f}\")\n",
        "\n",
        "  end_time = time.time()\n",
        "  elapsed_time = end_time - start_time\n",
        "  return elapsed_time"
      ],
      "metadata": {
        "id": "GXUxf7GSzK1u"
      },
      "execution_count": 19,
      "outputs": []
    },
    {
      "cell_type": "code",
      "source": [
        "def test_accuracy(model):\n",
        "  model = model\n",
        "  model = model.to(device)\n",
        "  model.eval()\n",
        "  correct = 0\n",
        "  total = 0\n",
        "  with torch.no_grad():\n",
        "      for images, labels in test_loader:\n",
        "          images = images.unsqueeze(1).to(device)\n",
        "          labels = labels.to(device)\n",
        "          outputs = model(images)\n",
        "          _, predicted = torch.max(outputs.data, 1)\n",
        "          total += labels.size(0)\n",
        "          correct += (predicted == labels.argmax(axis=1)).sum().item()\n",
        "  accuracy = 100 * correct / total\n",
        "  return accuracy"
      ],
      "metadata": {
        "id": "heeQGkuCIRFX"
      },
      "execution_count": 20,
      "outputs": []
    },
    {
      "cell_type": "markdown",
      "source": [
        "To ensure that we test all possible combinations, we will use the product function of the Python itertools library. This will give us all combinations of the chosen filter size, number of features, and batch size."
      ],
      "metadata": {
        "id": "Dub2iZ9pvVfJ"
      }
    },
    {
      "cell_type": "code",
      "source": [
        "import itertools\n",
        "from itertools import product\n",
        "\n",
        "filter_size_ls = [3, 5]\n",
        "num_features_ls = [16, 64]\n",
        "batch_size_ls = [32, 64, 128]\n",
        "\n",
        "combinations = list(itertools.product(filter_size_ls, num_features_ls, batch_size_ls))\n",
        "print(combinations)"
      ],
      "metadata": {
        "colab": {
          "base_uri": "https://localhost:8080/"
        },
        "id": "u0r-nlgkqx-J",
        "outputId": "a15ba105-82a9-4513-ea6a-8b6ae1fce7a1"
      },
      "execution_count": 21,
      "outputs": [
        {
          "output_type": "stream",
          "name": "stdout",
          "text": [
            "[(3, 16, 32), (3, 16, 64), (3, 16, 128), (3, 64, 32), (3, 64, 64), (3, 64, 128), (5, 16, 32), (5, 16, 64), (5, 16, 128), (5, 64, 32), (5, 64, 64), (5, 64, 128)]\n"
          ]
        }
      ]
    },
    {
      "cell_type": "markdown",
      "source": [
        "### Running the Experiment\n",
        "\n",
        "To run the experiment, we will iterate through the list of combinations of filter size, number of features, and batch size.\n",
        "\n",
        "The output size of the Max Pooling 2 layer output is based on the equation below.\n",
        "\n",
        "$\\displaystyle \\mbox{Output Size}=\\left\\lfloor \\frac{W−K+2P}{S} + 1\\right\\rfloor,$ where:\n",
        "\n",
        "$W$ = input size (width/height),</br>\n",
        "$K$ = kernel size,</br>\n",
        "$P$ = padding,</br>\n",
        "$S$ = stride.</br>\n",
        "\n",
        "For our filter size of 3, the output should be 5x5x($2 * $number of features). For our filter size of 3, the output should be 4x4x($2 * $number of features).\n",
        "\n",
        "The values of the hyperparameters (filter size, number of features, batch size), as well as the elapsed time and the accuracy of the model on test data, are saved into a dictionary for analysis."
      ],
      "metadata": {
        "id": "hAkiWpP_wbrd"
      }
    },
    {
      "cell_type": "code",
      "source": [
        "experiment_results = {}\n",
        "n = 1\n",
        "for i in combinations:\n",
        "  filter_size = i[0]\n",
        "  num_features = i[1]\n",
        "  batch_size = i[2]\n",
        "  if filter_size == 3:\n",
        "      pool2_out = 5\n",
        "  if filter_size == 5:\n",
        "      pool2_out = 4\n",
        "  print(f'filter_size: {filter_size}, num_features: {num_features}, batch_size: {batch_size}')\n",
        "\n",
        "  model = define_CNN(num_features, filter_size, pool2_out)\n",
        "  train_loader, val_loader, test_loader = build_loaders(batch_size)\n",
        "  elapsed_time = train_val_model(model)\n",
        "  accuracy = test_accuracy(model)\n",
        "  experiment_results[n] = {\n",
        "      'filter_size': filter_size,\n",
        "      'num_features': num_features,\n",
        "      'batch_size': batch_size,\n",
        "      'elapsed_time': elapsed_time,\n",
        "      'accuracy': accuracy\n",
        "  }\n",
        "  n += 1"
      ],
      "metadata": {
        "colab": {
          "base_uri": "https://localhost:8080/"
        },
        "id": "oV7JZyvTr7Nt",
        "outputId": "7cf3ec57-0250-45ba-f92e-1a9a8179129a"
      },
      "execution_count": 22,
      "outputs": [
        {
          "output_type": "stream",
          "name": "stdout",
          "text": [
            "filter_size: 3, num_features: 16, batch_size: 32\n",
            "Epoch [1/10], Training Loss: 0.5453, Validation Loss: 0.3743\n",
            "Epoch [2/10], Training Loss: 0.3618, Validation Loss: 0.3438\n",
            "Epoch [3/10], Training Loss: 0.3097, Validation Loss: 0.3185\n",
            "Epoch [4/10], Training Loss: 0.2748, Validation Loss: 0.3294\n",
            "Epoch [5/10], Training Loss: 0.2506, Validation Loss: 0.2673\n",
            "Epoch [6/10], Training Loss: 0.2300, Validation Loss: 0.2590\n",
            "Epoch [7/10], Training Loss: 0.2113, Validation Loss: 0.2520\n",
            "Epoch [8/10], Training Loss: 0.1968, Validation Loss: 0.2589\n",
            "Epoch [9/10], Training Loss: 0.1830, Validation Loss: 0.2580\n",
            "Epoch [10/10], Training Loss: 0.1704, Validation Loss: 0.2774\n",
            "filter_size: 3, num_features: 16, batch_size: 64\n",
            "Epoch [1/10], Training Loss: 0.5883, Validation Loss: 0.4071\n",
            "Epoch [2/10], Training Loss: 0.3882, Validation Loss: 0.3696\n",
            "Epoch [3/10], Training Loss: 0.3341, Validation Loss: 0.3196\n",
            "Epoch [4/10], Training Loss: 0.3012, Validation Loss: 0.3007\n",
            "Epoch [5/10], Training Loss: 0.2773, Validation Loss: 0.2824\n",
            "Epoch [6/10], Training Loss: 0.2552, Validation Loss: 0.2794\n",
            "Epoch [7/10], Training Loss: 0.2397, Validation Loss: 0.2767\n",
            "Epoch [8/10], Training Loss: 0.2224, Validation Loss: 0.2664\n",
            "Epoch [9/10], Training Loss: 0.2075, Validation Loss: 0.2662\n",
            "Epoch [10/10], Training Loss: 0.1955, Validation Loss: 0.2626\n",
            "filter_size: 3, num_features: 16, batch_size: 128\n",
            "Epoch [1/10], Training Loss: 0.6579, Validation Loss: 0.4503\n",
            "Epoch [2/10], Training Loss: 0.4173, Validation Loss: 0.3736\n",
            "Epoch [3/10], Training Loss: 0.3637, Validation Loss: 0.3352\n",
            "Epoch [4/10], Training Loss: 0.3285, Validation Loss: 0.3199\n",
            "Epoch [5/10], Training Loss: 0.3107, Validation Loss: 0.3067\n",
            "Epoch [6/10], Training Loss: 0.2865, Validation Loss: 0.3074\n",
            "Epoch [7/10], Training Loss: 0.2751, Validation Loss: 0.3028\n",
            "Epoch [8/10], Training Loss: 0.2597, Validation Loss: 0.2864\n",
            "Epoch [9/10], Training Loss: 0.2467, Validation Loss: 0.2753\n",
            "Epoch [10/10], Training Loss: 0.2379, Validation Loss: 0.2751\n",
            "filter_size: 3, num_features: 64, batch_size: 32\n",
            "Epoch [1/10], Training Loss: 0.4508, Validation Loss: 0.3398\n",
            "Epoch [2/10], Training Loss: 0.2936, Validation Loss: 0.2863\n",
            "Epoch [3/10], Training Loss: 0.2480, Validation Loss: 0.2726\n",
            "Epoch [4/10], Training Loss: 0.2108, Validation Loss: 0.2727\n",
            "Epoch [5/10], Training Loss: 0.1836, Validation Loss: 0.2550\n",
            "Epoch [6/10], Training Loss: 0.1597, Validation Loss: 0.2628\n",
            "Epoch [7/10], Training Loss: 0.1386, Validation Loss: 0.2736\n",
            "Epoch [8/10], Training Loss: 0.1187, Validation Loss: 0.2733\n",
            "Epoch [9/10], Training Loss: 0.1014, Validation Loss: 0.2856\n",
            "Epoch [10/10], Training Loss: 0.0878, Validation Loss: 0.2928\n",
            "filter_size: 3, num_features: 64, batch_size: 64\n",
            "Epoch [1/10], Training Loss: 0.4972, Validation Loss: 0.3531\n",
            "Epoch [2/10], Training Loss: 0.3166, Validation Loss: 0.2960\n",
            "Epoch [3/10], Training Loss: 0.2686, Validation Loss: 0.2690\n",
            "Epoch [4/10], Training Loss: 0.2348, Validation Loss: 0.2548\n",
            "Epoch [5/10], Training Loss: 0.2067, Validation Loss: 0.2516\n",
            "Epoch [6/10], Training Loss: 0.1826, Validation Loss: 0.2322\n",
            "Epoch [7/10], Training Loss: 0.1611, Validation Loss: 0.2477\n",
            "Epoch [8/10], Training Loss: 0.1420, Validation Loss: 0.2360\n",
            "Epoch [9/10], Training Loss: 0.1203, Validation Loss: 0.2577\n",
            "Epoch [10/10], Training Loss: 0.1056, Validation Loss: 0.2528\n",
            "filter_size: 3, num_features: 64, batch_size: 128\n",
            "Epoch [1/10], Training Loss: 0.5386, Validation Loss: 0.3755\n",
            "Epoch [2/10], Training Loss: 0.3353, Validation Loss: 0.3128\n",
            "Epoch [3/10], Training Loss: 0.2876, Validation Loss: 0.3162\n",
            "Epoch [4/10], Training Loss: 0.2550, Validation Loss: 0.2692\n",
            "Epoch [5/10], Training Loss: 0.2288, Validation Loss: 0.2523\n",
            "Epoch [6/10], Training Loss: 0.2069, Validation Loss: 0.2495\n",
            "Epoch [7/10], Training Loss: 0.1845, Validation Loss: 0.2513\n",
            "Epoch [8/10], Training Loss: 0.1682, Validation Loss: 0.2455\n",
            "Epoch [9/10], Training Loss: 0.1492, Validation Loss: 0.2317\n",
            "Epoch [10/10], Training Loss: 0.1339, Validation Loss: 0.2453\n",
            "filter_size: 5, num_features: 16, batch_size: 32\n",
            "Epoch [1/10], Training Loss: 0.5520, Validation Loss: 0.3782\n",
            "Epoch [2/10], Training Loss: 0.3493, Validation Loss: 0.3080\n",
            "Epoch [3/10], Training Loss: 0.2972, Validation Loss: 0.2922\n",
            "Epoch [4/10], Training Loss: 0.2680, Validation Loss: 0.2850\n",
            "Epoch [5/10], Training Loss: 0.2441, Validation Loss: 0.2703\n",
            "Epoch [6/10], Training Loss: 0.2267, Validation Loss: 0.2776\n",
            "Epoch [7/10], Training Loss: 0.2108, Validation Loss: 0.2484\n",
            "Epoch [8/10], Training Loss: 0.1939, Validation Loss: 0.2561\n",
            "Epoch [9/10], Training Loss: 0.1815, Validation Loss: 0.2566\n",
            "Epoch [10/10], Training Loss: 0.1699, Validation Loss: 0.2722\n",
            "filter_size: 5, num_features: 16, batch_size: 64\n",
            "Epoch [1/10], Training Loss: 0.5971, Validation Loss: 0.4434\n",
            "Epoch [2/10], Training Loss: 0.3819, Validation Loss: 0.3743\n",
            "Epoch [3/10], Training Loss: 0.3273, Validation Loss: 0.3221\n",
            "Epoch [4/10], Training Loss: 0.2953, Validation Loss: 0.3130\n",
            "Epoch [5/10], Training Loss: 0.2720, Validation Loss: 0.2858\n",
            "Epoch [6/10], Training Loss: 0.2537, Validation Loss: 0.2982\n",
            "Epoch [7/10], Training Loss: 0.2363, Validation Loss: 0.2769\n",
            "Epoch [8/10], Training Loss: 0.2224, Validation Loss: 0.2758\n",
            "Epoch [9/10], Training Loss: 0.2087, Validation Loss: 0.2609\n",
            "Epoch [10/10], Training Loss: 0.1969, Validation Loss: 0.2596\n",
            "filter_size: 5, num_features: 16, batch_size: 128\n",
            "Epoch [1/10], Training Loss: 0.6784, Validation Loss: 0.4785\n",
            "Epoch [2/10], Training Loss: 0.4415, Validation Loss: 0.4037\n",
            "Epoch [3/10], Training Loss: 0.3720, Validation Loss: 0.3592\n",
            "Epoch [4/10], Training Loss: 0.3378, Validation Loss: 0.3262\n",
            "Epoch [5/10], Training Loss: 0.3134, Validation Loss: 0.3176\n",
            "Epoch [6/10], Training Loss: 0.2914, Validation Loss: 0.3088\n",
            "Epoch [7/10], Training Loss: 0.2745, Validation Loss: 0.2863\n",
            "Epoch [8/10], Training Loss: 0.2591, Validation Loss: 0.2989\n",
            "Epoch [9/10], Training Loss: 0.2459, Validation Loss: 0.2809\n",
            "Epoch [10/10], Training Loss: 0.2361, Validation Loss: 0.2691\n",
            "filter_size: 5, num_features: 64, batch_size: 32\n",
            "Epoch [1/10], Training Loss: 0.4413, Validation Loss: 0.3065\n",
            "Epoch [2/10], Training Loss: 0.2883, Validation Loss: 0.2915\n",
            "Epoch [3/10], Training Loss: 0.2424, Validation Loss: 0.2528\n",
            "Epoch [4/10], Training Loss: 0.2111, Validation Loss: 0.2567\n",
            "Epoch [5/10], Training Loss: 0.1810, Validation Loss: 0.2545\n",
            "Epoch [6/10], Training Loss: 0.1569, Validation Loss: 0.3068\n",
            "Epoch [7/10], Training Loss: 0.1362, Validation Loss: 0.3128\n",
            "Epoch [8/10], Training Loss: 0.1210, Validation Loss: 0.2825\n",
            "Epoch [9/10], Training Loss: 0.1045, Validation Loss: 0.2898\n",
            "Epoch [10/10], Training Loss: 0.0942, Validation Loss: 0.3132\n",
            "filter_size: 5, num_features: 64, batch_size: 64\n",
            "Epoch [1/10], Training Loss: 0.4884, Validation Loss: 0.3492\n",
            "Epoch [2/10], Training Loss: 0.3051, Validation Loss: 0.2736\n",
            "Epoch [3/10], Training Loss: 0.2565, Validation Loss: 0.2822\n",
            "Epoch [4/10], Training Loss: 0.2211, Validation Loss: 0.2732\n",
            "Epoch [5/10], Training Loss: 0.1949, Validation Loss: 0.2680\n",
            "Epoch [6/10], Training Loss: 0.1708, Validation Loss: 0.2538\n",
            "Epoch [7/10], Training Loss: 0.1503, Validation Loss: 0.2365\n",
            "Epoch [8/10], Training Loss: 0.1328, Validation Loss: 0.2599\n",
            "Epoch [9/10], Training Loss: 0.1148, Validation Loss: 0.2550\n",
            "Epoch [10/10], Training Loss: 0.1002, Validation Loss: 0.2734\n",
            "filter_size: 5, num_features: 64, batch_size: 128\n",
            "Epoch [1/10], Training Loss: 0.5358, Validation Loss: 0.3929\n",
            "Epoch [2/10], Training Loss: 0.3273, Validation Loss: 0.2998\n",
            "Epoch [3/10], Training Loss: 0.2765, Validation Loss: 0.2870\n",
            "Epoch [4/10], Training Loss: 0.2440, Validation Loss: 0.2619\n",
            "Epoch [5/10], Training Loss: 0.2175, Validation Loss: 0.2443\n",
            "Epoch [6/10], Training Loss: 0.1988, Validation Loss: 0.2345\n",
            "Epoch [7/10], Training Loss: 0.1751, Validation Loss: 0.2358\n",
            "Epoch [8/10], Training Loss: 0.1543, Validation Loss: 0.2366\n",
            "Epoch [9/10], Training Loss: 0.1384, Validation Loss: 0.2421\n",
            "Epoch [10/10], Training Loss: 0.1249, Validation Loss: 0.2434\n"
          ]
        }
      ]
    },
    {
      "cell_type": "markdown",
      "source": [
        "## Section 3: Analysis\n",
        "\n",
        "An initial look at the results of the experiment shows that the lowest computational time (27.8s) occurred for a filter size of 3, 16 features, and a batch size of 128. However, this model had the lowest accuracy of any model, including the baseline. The highest accuracy (92.09%) occurred when the filter size was 5, the number of features was 64, and the batch size was 128. This specific model had a runtime of 43.75s, which is only 6.58s faster than the baseline computational time of 37.17s. This model also presented a 0.51% increase in accuracy on the test model. Therefore, an initial analysis would suggest that the best hyperparameters for our simple CNN on the FashionMNIST Dataset are:\n",
        "* Filter Size: 5\n",
        "* Number of Features: 64\n",
        "* Batch Size: 128\n",
        "\n",
        "The effect of each hyperparameter on computational time and accuracy is below:\n",
        "* Filter Size\n",
        "  * Computational Time: Filter size does not appear to have a significant consistent effect on computational time.\n",
        "  * Accuracy: Filter size does not appear to have a significant consistent effect on accuracy.\n",
        "* Number of Features\n",
        "  * Computational Time: Number of features does not appear to have a significant consistent effect on computational time.\n",
        "  * Accuracy: A smaller number of features tends to reduce accuracy, while a larger number of features increases the accuracy of the model on the test data.\n",
        "* Batch Size\n",
        "  * Computational Time: Batch size appears to have the largest effect on computational time. The larger the batch size, the smaller the computational time.\n",
        "  * Accuracy: For models with less features, a larger batch size tends to reduce the accuracy of the model on the test data. For models with a larger number of features, an increase in batch size is typically accompanied by an increase in accuracy. However, there are variations from this trend in the results of the experiment."
      ],
      "metadata": {
        "id": "VZM4ORiFySwV"
      }
    },
    {
      "cell_type": "code",
      "source": [
        "print(f'Baseline Accuracy: {baseline_accuracy:.2f}%')\n",
        "print(f'Baseline Computational Time: {baseline_elapsed_time:.2f}')"
      ],
      "metadata": {
        "colab": {
          "base_uri": "https://localhost:8080/"
        },
        "id": "-5KuXWI7_sbD",
        "outputId": "4e4665bc-7143-4163-98f9-2a2aaee36231"
      },
      "execution_count": 85,
      "outputs": [
        {
          "output_type": "stream",
          "name": "stdout",
          "text": [
            "Baseline Accuracy: 91.58%\n",
            "Baseline Computational Time: 37.17\n"
          ]
        }
      ]
    },
    {
      "cell_type": "code",
      "source": [
        "import pandas as pd\n",
        "df = pd.DataFrame(experiment_results).T\n",
        "df = pl.from_pandas(df)\n",
        "df = df.with_columns(\n",
        "    pl.col('elapsed_time').round(2).alias('elapsed_time'),\n",
        "    pl.col('accuracy').round(2).alias('accuracy'),\n",
        "    (pl.col('elapsed_time') - baseline_elapsed_time).round(2).alias('Difference from Baseline - Time'),\n",
        "    (pl.col('accuracy') - baseline_accuracy).round(2).alias('Difference from Baseline - Accuracy')\n",
        ")\n",
        "pdf = df.to_pandas()\n",
        "pdf"
      ],
      "metadata": {
        "colab": {
          "base_uri": "https://localhost:8080/",
          "height": 425
        },
        "id": "Vt8Xx5zD1A0q",
        "outputId": "0d751958-6dcf-4eb3-bf00-f08a56bf8a1d"
      },
      "execution_count": 100,
      "outputs": [
        {
          "output_type": "execute_result",
          "data": {
            "text/plain": [
              "    filter_size  num_features  batch_size  elapsed_time  accuracy  \\\n",
              "0           3.0          16.0        32.0         57.09     90.97   \n",
              "1           3.0          16.0        64.0         36.62     90.87   \n",
              "2           3.0          16.0       128.0         27.77     89.67   \n",
              "3           3.0          64.0        32.0         56.27     91.84   \n",
              "4           3.0          64.0        64.0         41.44     92.01   \n",
              "5           3.0          64.0       128.0         35.96     92.03   \n",
              "6           5.0          16.0        32.0         63.61     90.71   \n",
              "7           5.0          16.0        64.0         40.38     90.95   \n",
              "8           5.0          16.0       128.0         28.32     90.67   \n",
              "9           5.0          64.0        32.0         65.63     92.04   \n",
              "10          5.0          64.0        64.0         48.49     92.07   \n",
              "11          5.0          64.0       128.0         43.75     92.09   \n",
              "\n",
              "    Difference from Baseline - Time  Difference from Baseline - Accuracy  \n",
              "0                             19.92                                -0.61  \n",
              "1                             -0.55                                -0.71  \n",
              "2                             -9.40                                -1.91  \n",
              "3                             19.10                                 0.26  \n",
              "4                              4.27                                 0.43  \n",
              "5                             -1.21                                 0.45  \n",
              "6                             26.44                                -0.87  \n",
              "7                              3.21                                -0.63  \n",
              "8                             -8.85                                -0.91  \n",
              "9                             28.46                                 0.46  \n",
              "10                            11.32                                 0.49  \n",
              "11                             6.58                                 0.51  "
            ],
            "text/html": [
              "\n",
              "  <div id=\"df-ea512031-98c5-4cd5-adbc-f5206aaa342f\" class=\"colab-df-container\">\n",
              "    <div>\n",
              "<style scoped>\n",
              "    .dataframe tbody tr th:only-of-type {\n",
              "        vertical-align: middle;\n",
              "    }\n",
              "\n",
              "    .dataframe tbody tr th {\n",
              "        vertical-align: top;\n",
              "    }\n",
              "\n",
              "    .dataframe thead th {\n",
              "        text-align: right;\n",
              "    }\n",
              "</style>\n",
              "<table border=\"1\" class=\"dataframe\">\n",
              "  <thead>\n",
              "    <tr style=\"text-align: right;\">\n",
              "      <th></th>\n",
              "      <th>filter_size</th>\n",
              "      <th>num_features</th>\n",
              "      <th>batch_size</th>\n",
              "      <th>elapsed_time</th>\n",
              "      <th>accuracy</th>\n",
              "      <th>Difference from Baseline - Time</th>\n",
              "      <th>Difference from Baseline - Accuracy</th>\n",
              "    </tr>\n",
              "  </thead>\n",
              "  <tbody>\n",
              "    <tr>\n",
              "      <th>0</th>\n",
              "      <td>3.0</td>\n",
              "      <td>16.0</td>\n",
              "      <td>32.0</td>\n",
              "      <td>57.09</td>\n",
              "      <td>90.97</td>\n",
              "      <td>19.92</td>\n",
              "      <td>-0.61</td>\n",
              "    </tr>\n",
              "    <tr>\n",
              "      <th>1</th>\n",
              "      <td>3.0</td>\n",
              "      <td>16.0</td>\n",
              "      <td>64.0</td>\n",
              "      <td>36.62</td>\n",
              "      <td>90.87</td>\n",
              "      <td>-0.55</td>\n",
              "      <td>-0.71</td>\n",
              "    </tr>\n",
              "    <tr>\n",
              "      <th>2</th>\n",
              "      <td>3.0</td>\n",
              "      <td>16.0</td>\n",
              "      <td>128.0</td>\n",
              "      <td>27.77</td>\n",
              "      <td>89.67</td>\n",
              "      <td>-9.40</td>\n",
              "      <td>-1.91</td>\n",
              "    </tr>\n",
              "    <tr>\n",
              "      <th>3</th>\n",
              "      <td>3.0</td>\n",
              "      <td>64.0</td>\n",
              "      <td>32.0</td>\n",
              "      <td>56.27</td>\n",
              "      <td>91.84</td>\n",
              "      <td>19.10</td>\n",
              "      <td>0.26</td>\n",
              "    </tr>\n",
              "    <tr>\n",
              "      <th>4</th>\n",
              "      <td>3.0</td>\n",
              "      <td>64.0</td>\n",
              "      <td>64.0</td>\n",
              "      <td>41.44</td>\n",
              "      <td>92.01</td>\n",
              "      <td>4.27</td>\n",
              "      <td>0.43</td>\n",
              "    </tr>\n",
              "    <tr>\n",
              "      <th>5</th>\n",
              "      <td>3.0</td>\n",
              "      <td>64.0</td>\n",
              "      <td>128.0</td>\n",
              "      <td>35.96</td>\n",
              "      <td>92.03</td>\n",
              "      <td>-1.21</td>\n",
              "      <td>0.45</td>\n",
              "    </tr>\n",
              "    <tr>\n",
              "      <th>6</th>\n",
              "      <td>5.0</td>\n",
              "      <td>16.0</td>\n",
              "      <td>32.0</td>\n",
              "      <td>63.61</td>\n",
              "      <td>90.71</td>\n",
              "      <td>26.44</td>\n",
              "      <td>-0.87</td>\n",
              "    </tr>\n",
              "    <tr>\n",
              "      <th>7</th>\n",
              "      <td>5.0</td>\n",
              "      <td>16.0</td>\n",
              "      <td>64.0</td>\n",
              "      <td>40.38</td>\n",
              "      <td>90.95</td>\n",
              "      <td>3.21</td>\n",
              "      <td>-0.63</td>\n",
              "    </tr>\n",
              "    <tr>\n",
              "      <th>8</th>\n",
              "      <td>5.0</td>\n",
              "      <td>16.0</td>\n",
              "      <td>128.0</td>\n",
              "      <td>28.32</td>\n",
              "      <td>90.67</td>\n",
              "      <td>-8.85</td>\n",
              "      <td>-0.91</td>\n",
              "    </tr>\n",
              "    <tr>\n",
              "      <th>9</th>\n",
              "      <td>5.0</td>\n",
              "      <td>64.0</td>\n",
              "      <td>32.0</td>\n",
              "      <td>65.63</td>\n",
              "      <td>92.04</td>\n",
              "      <td>28.46</td>\n",
              "      <td>0.46</td>\n",
              "    </tr>\n",
              "    <tr>\n",
              "      <th>10</th>\n",
              "      <td>5.0</td>\n",
              "      <td>64.0</td>\n",
              "      <td>64.0</td>\n",
              "      <td>48.49</td>\n",
              "      <td>92.07</td>\n",
              "      <td>11.32</td>\n",
              "      <td>0.49</td>\n",
              "    </tr>\n",
              "    <tr>\n",
              "      <th>11</th>\n",
              "      <td>5.0</td>\n",
              "      <td>64.0</td>\n",
              "      <td>128.0</td>\n",
              "      <td>43.75</td>\n",
              "      <td>92.09</td>\n",
              "      <td>6.58</td>\n",
              "      <td>0.51</td>\n",
              "    </tr>\n",
              "  </tbody>\n",
              "</table>\n",
              "</div>\n",
              "    <div class=\"colab-df-buttons\">\n",
              "\n",
              "  <div class=\"colab-df-container\">\n",
              "    <button class=\"colab-df-convert\" onclick=\"convertToInteractive('df-ea512031-98c5-4cd5-adbc-f5206aaa342f')\"\n",
              "            title=\"Convert this dataframe to an interactive table.\"\n",
              "            style=\"display:none;\">\n",
              "\n",
              "  <svg xmlns=\"http://www.w3.org/2000/svg\" height=\"24px\" viewBox=\"0 -960 960 960\">\n",
              "    <path d=\"M120-120v-720h720v720H120Zm60-500h600v-160H180v160Zm220 220h160v-160H400v160Zm0 220h160v-160H400v160ZM180-400h160v-160H180v160Zm440 0h160v-160H620v160ZM180-180h160v-160H180v160Zm440 0h160v-160H620v160Z\"/>\n",
              "  </svg>\n",
              "    </button>\n",
              "\n",
              "  <style>\n",
              "    .colab-df-container {\n",
              "      display:flex;\n",
              "      gap: 12px;\n",
              "    }\n",
              "\n",
              "    .colab-df-convert {\n",
              "      background-color: #E8F0FE;\n",
              "      border: none;\n",
              "      border-radius: 50%;\n",
              "      cursor: pointer;\n",
              "      display: none;\n",
              "      fill: #1967D2;\n",
              "      height: 32px;\n",
              "      padding: 0 0 0 0;\n",
              "      width: 32px;\n",
              "    }\n",
              "\n",
              "    .colab-df-convert:hover {\n",
              "      background-color: #E2EBFA;\n",
              "      box-shadow: 0px 1px 2px rgba(60, 64, 67, 0.3), 0px 1px 3px 1px rgba(60, 64, 67, 0.15);\n",
              "      fill: #174EA6;\n",
              "    }\n",
              "\n",
              "    .colab-df-buttons div {\n",
              "      margin-bottom: 4px;\n",
              "    }\n",
              "\n",
              "    [theme=dark] .colab-df-convert {\n",
              "      background-color: #3B4455;\n",
              "      fill: #D2E3FC;\n",
              "    }\n",
              "\n",
              "    [theme=dark] .colab-df-convert:hover {\n",
              "      background-color: #434B5C;\n",
              "      box-shadow: 0px 1px 3px 1px rgba(0, 0, 0, 0.15);\n",
              "      filter: drop-shadow(0px 1px 2px rgba(0, 0, 0, 0.3));\n",
              "      fill: #FFFFFF;\n",
              "    }\n",
              "  </style>\n",
              "\n",
              "    <script>\n",
              "      const buttonEl =\n",
              "        document.querySelector('#df-ea512031-98c5-4cd5-adbc-f5206aaa342f button.colab-df-convert');\n",
              "      buttonEl.style.display =\n",
              "        google.colab.kernel.accessAllowed ? 'block' : 'none';\n",
              "\n",
              "      async function convertToInteractive(key) {\n",
              "        const element = document.querySelector('#df-ea512031-98c5-4cd5-adbc-f5206aaa342f');\n",
              "        const dataTable =\n",
              "          await google.colab.kernel.invokeFunction('convertToInteractive',\n",
              "                                                    [key], {});\n",
              "        if (!dataTable) return;\n",
              "\n",
              "        const docLinkHtml = 'Like what you see? Visit the ' +\n",
              "          '<a target=\"_blank\" href=https://colab.research.google.com/notebooks/data_table.ipynb>data table notebook</a>'\n",
              "          + ' to learn more about interactive tables.';\n",
              "        element.innerHTML = '';\n",
              "        dataTable['output_type'] = 'display_data';\n",
              "        await google.colab.output.renderOutput(dataTable, element);\n",
              "        const docLink = document.createElement('div');\n",
              "        docLink.innerHTML = docLinkHtml;\n",
              "        element.appendChild(docLink);\n",
              "      }\n",
              "    </script>\n",
              "  </div>\n",
              "\n",
              "\n",
              "<div id=\"df-45fab9a2-184d-4165-9eb6-255553c573fa\">\n",
              "  <button class=\"colab-df-quickchart\" onclick=\"quickchart('df-45fab9a2-184d-4165-9eb6-255553c573fa')\"\n",
              "            title=\"Suggest charts\"\n",
              "            style=\"display:none;\">\n",
              "\n",
              "<svg xmlns=\"http://www.w3.org/2000/svg\" height=\"24px\"viewBox=\"0 0 24 24\"\n",
              "     width=\"24px\">\n",
              "    <g>\n",
              "        <path d=\"M19 3H5c-1.1 0-2 .9-2 2v14c0 1.1.9 2 2 2h14c1.1 0 2-.9 2-2V5c0-1.1-.9-2-2-2zM9 17H7v-7h2v7zm4 0h-2V7h2v10zm4 0h-2v-4h2v4z\"/>\n",
              "    </g>\n",
              "</svg>\n",
              "  </button>\n",
              "\n",
              "<style>\n",
              "  .colab-df-quickchart {\n",
              "      --bg-color: #E8F0FE;\n",
              "      --fill-color: #1967D2;\n",
              "      --hover-bg-color: #E2EBFA;\n",
              "      --hover-fill-color: #174EA6;\n",
              "      --disabled-fill-color: #AAA;\n",
              "      --disabled-bg-color: #DDD;\n",
              "  }\n",
              "\n",
              "  [theme=dark] .colab-df-quickchart {\n",
              "      --bg-color: #3B4455;\n",
              "      --fill-color: #D2E3FC;\n",
              "      --hover-bg-color: #434B5C;\n",
              "      --hover-fill-color: #FFFFFF;\n",
              "      --disabled-bg-color: #3B4455;\n",
              "      --disabled-fill-color: #666;\n",
              "  }\n",
              "\n",
              "  .colab-df-quickchart {\n",
              "    background-color: var(--bg-color);\n",
              "    border: none;\n",
              "    border-radius: 50%;\n",
              "    cursor: pointer;\n",
              "    display: none;\n",
              "    fill: var(--fill-color);\n",
              "    height: 32px;\n",
              "    padding: 0;\n",
              "    width: 32px;\n",
              "  }\n",
              "\n",
              "  .colab-df-quickchart:hover {\n",
              "    background-color: var(--hover-bg-color);\n",
              "    box-shadow: 0 1px 2px rgba(60, 64, 67, 0.3), 0 1px 3px 1px rgba(60, 64, 67, 0.15);\n",
              "    fill: var(--button-hover-fill-color);\n",
              "  }\n",
              "\n",
              "  .colab-df-quickchart-complete:disabled,\n",
              "  .colab-df-quickchart-complete:disabled:hover {\n",
              "    background-color: var(--disabled-bg-color);\n",
              "    fill: var(--disabled-fill-color);\n",
              "    box-shadow: none;\n",
              "  }\n",
              "\n",
              "  .colab-df-spinner {\n",
              "    border: 2px solid var(--fill-color);\n",
              "    border-color: transparent;\n",
              "    border-bottom-color: var(--fill-color);\n",
              "    animation:\n",
              "      spin 1s steps(1) infinite;\n",
              "  }\n",
              "\n",
              "  @keyframes spin {\n",
              "    0% {\n",
              "      border-color: transparent;\n",
              "      border-bottom-color: var(--fill-color);\n",
              "      border-left-color: var(--fill-color);\n",
              "    }\n",
              "    20% {\n",
              "      border-color: transparent;\n",
              "      border-left-color: var(--fill-color);\n",
              "      border-top-color: var(--fill-color);\n",
              "    }\n",
              "    30% {\n",
              "      border-color: transparent;\n",
              "      border-left-color: var(--fill-color);\n",
              "      border-top-color: var(--fill-color);\n",
              "      border-right-color: var(--fill-color);\n",
              "    }\n",
              "    40% {\n",
              "      border-color: transparent;\n",
              "      border-right-color: var(--fill-color);\n",
              "      border-top-color: var(--fill-color);\n",
              "    }\n",
              "    60% {\n",
              "      border-color: transparent;\n",
              "      border-right-color: var(--fill-color);\n",
              "    }\n",
              "    80% {\n",
              "      border-color: transparent;\n",
              "      border-right-color: var(--fill-color);\n",
              "      border-bottom-color: var(--fill-color);\n",
              "    }\n",
              "    90% {\n",
              "      border-color: transparent;\n",
              "      border-bottom-color: var(--fill-color);\n",
              "    }\n",
              "  }\n",
              "</style>\n",
              "\n",
              "  <script>\n",
              "    async function quickchart(key) {\n",
              "      const quickchartButtonEl =\n",
              "        document.querySelector('#' + key + ' button');\n",
              "      quickchartButtonEl.disabled = true;  // To prevent multiple clicks.\n",
              "      quickchartButtonEl.classList.add('colab-df-spinner');\n",
              "      try {\n",
              "        const charts = await google.colab.kernel.invokeFunction(\n",
              "            'suggestCharts', [key], {});\n",
              "      } catch (error) {\n",
              "        console.error('Error during call to suggestCharts:', error);\n",
              "      }\n",
              "      quickchartButtonEl.classList.remove('colab-df-spinner');\n",
              "      quickchartButtonEl.classList.add('colab-df-quickchart-complete');\n",
              "    }\n",
              "    (() => {\n",
              "      let quickchartButtonEl =\n",
              "        document.querySelector('#df-45fab9a2-184d-4165-9eb6-255553c573fa button');\n",
              "      quickchartButtonEl.style.display =\n",
              "        google.colab.kernel.accessAllowed ? 'block' : 'none';\n",
              "    })();\n",
              "  </script>\n",
              "</div>\n",
              "\n",
              "  <div id=\"id_2cd719f7-30da-4aa7-8858-13cc9717f49a\">\n",
              "    <style>\n",
              "      .colab-df-generate {\n",
              "        background-color: #E8F0FE;\n",
              "        border: none;\n",
              "        border-radius: 50%;\n",
              "        cursor: pointer;\n",
              "        display: none;\n",
              "        fill: #1967D2;\n",
              "        height: 32px;\n",
              "        padding: 0 0 0 0;\n",
              "        width: 32px;\n",
              "      }\n",
              "\n",
              "      .colab-df-generate:hover {\n",
              "        background-color: #E2EBFA;\n",
              "        box-shadow: 0px 1px 2px rgba(60, 64, 67, 0.3), 0px 1px 3px 1px rgba(60, 64, 67, 0.15);\n",
              "        fill: #174EA6;\n",
              "      }\n",
              "\n",
              "      [theme=dark] .colab-df-generate {\n",
              "        background-color: #3B4455;\n",
              "        fill: #D2E3FC;\n",
              "      }\n",
              "\n",
              "      [theme=dark] .colab-df-generate:hover {\n",
              "        background-color: #434B5C;\n",
              "        box-shadow: 0px 1px 3px 1px rgba(0, 0, 0, 0.15);\n",
              "        filter: drop-shadow(0px 1px 2px rgba(0, 0, 0, 0.3));\n",
              "        fill: #FFFFFF;\n",
              "      }\n",
              "    </style>\n",
              "    <button class=\"colab-df-generate\" onclick=\"generateWithVariable('pdf')\"\n",
              "            title=\"Generate code using this dataframe.\"\n",
              "            style=\"display:none;\">\n",
              "\n",
              "  <svg xmlns=\"http://www.w3.org/2000/svg\" height=\"24px\"viewBox=\"0 0 24 24\"\n",
              "       width=\"24px\">\n",
              "    <path d=\"M7,19H8.4L18.45,9,17,7.55,7,17.6ZM5,21V16.75L18.45,3.32a2,2,0,0,1,2.83,0l1.4,1.43a1.91,1.91,0,0,1,.58,1.4,1.91,1.91,0,0,1-.58,1.4L9.25,21ZM18.45,9,17,7.55Zm-12,3A5.31,5.31,0,0,0,4.9,8.1,5.31,5.31,0,0,0,1,6.5,5.31,5.31,0,0,0,4.9,4.9,5.31,5.31,0,0,0,6.5,1,5.31,5.31,0,0,0,8.1,4.9,5.31,5.31,0,0,0,12,6.5,5.46,5.46,0,0,0,6.5,12Z\"/>\n",
              "  </svg>\n",
              "    </button>\n",
              "    <script>\n",
              "      (() => {\n",
              "      const buttonEl =\n",
              "        document.querySelector('#id_2cd719f7-30da-4aa7-8858-13cc9717f49a button.colab-df-generate');\n",
              "      buttonEl.style.display =\n",
              "        google.colab.kernel.accessAllowed ? 'block' : 'none';\n",
              "\n",
              "      buttonEl.onclick = () => {\n",
              "        google.colab.notebook.generateWithVariable('pdf');\n",
              "      }\n",
              "      })();\n",
              "    </script>\n",
              "  </div>\n",
              "\n",
              "    </div>\n",
              "  </div>\n"
            ],
            "application/vnd.google.colaboratory.intrinsic+json": {
              "type": "dataframe",
              "variable_name": "pdf",
              "summary": "{\n  \"name\": \"pdf\",\n  \"rows\": 12,\n  \"fields\": [\n    {\n      \"column\": \"filter_size\",\n      \"properties\": {\n        \"dtype\": \"number\",\n        \"std\": 1.044465935734187,\n        \"min\": 3.0,\n        \"max\": 5.0,\n        \"num_unique_values\": 2,\n        \"samples\": [\n          5.0,\n          3.0\n        ],\n        \"semantic_type\": \"\",\n        \"description\": \"\"\n      }\n    },\n    {\n      \"column\": \"num_features\",\n      \"properties\": {\n        \"dtype\": \"number\",\n        \"std\": 25.06718245762049,\n        \"min\": 16.0,\n        \"max\": 64.0,\n        \"num_unique_values\": 2,\n        \"samples\": [\n          64.0,\n          16.0\n        ],\n        \"semantic_type\": \"\",\n        \"description\": \"\"\n      }\n    },\n    {\n      \"column\": \"batch_size\",\n      \"properties\": {\n        \"dtype\": \"number\",\n        \"std\": 41.685692625851495,\n        \"min\": 32.0,\n        \"max\": 128.0,\n        \"num_unique_values\": 3,\n        \"samples\": [\n          32.0,\n          64.0\n        ],\n        \"semantic_type\": \"\",\n        \"description\": \"\"\n      }\n    },\n    {\n      \"column\": \"elapsed_time\",\n      \"properties\": {\n        \"dtype\": \"number\",\n        \"std\": 12.854233443665258,\n        \"min\": 27.77,\n        \"max\": 65.63,\n        \"num_unique_values\": 12,\n        \"samples\": [\n          48.49,\n          65.63\n        ],\n        \"semantic_type\": \"\",\n        \"description\": \"\"\n      }\n    },\n    {\n      \"column\": \"accuracy\",\n      \"properties\": {\n        \"dtype\": \"number\",\n        \"std\": 0.7921700154217745,\n        \"min\": 89.67,\n        \"max\": 92.09,\n        \"num_unique_values\": 12,\n        \"samples\": [\n          92.07,\n          92.04\n        ],\n        \"semantic_type\": \"\",\n        \"description\": \"\"\n      }\n    },\n    {\n      \"column\": \"Difference from Baseline - Time\",\n      \"properties\": {\n        \"dtype\": \"number\",\n        \"std\": 12.85423344366526,\n        \"min\": -9.4,\n        \"max\": 28.46,\n        \"num_unique_values\": 12,\n        \"samples\": [\n          11.32,\n          28.46\n        ],\n        \"semantic_type\": \"\",\n        \"description\": \"\"\n      }\n    },\n    {\n      \"column\": \"Difference from Baseline - Accuracy\",\n      \"properties\": {\n        \"dtype\": \"number\",\n        \"std\": 0.7921700154217738,\n        \"min\": -1.91,\n        \"max\": 0.51,\n        \"num_unique_values\": 12,\n        \"samples\": [\n          0.49,\n          0.46\n        ],\n        \"semantic_type\": \"\",\n        \"description\": \"\"\n      }\n    }\n  ]\n}"
            }
          },
          "metadata": {},
          "execution_count": 100
        }
      ]
    },
    {
      "cell_type": "markdown",
      "source": [
        "We can further analyze the effect of each hyperparameter on both computational time and accuracy, first by examining the mean and standard deviation of each when grouped according to hyperparameter value."
      ],
      "metadata": {
        "id": "-99xunQMAkj9"
      }
    },
    {
      "cell_type": "code",
      "source": [
        "filter_size_df = df.group_by(\n",
        "    'filter_size'\n",
        ").agg([\n",
        "    pl.col('elapsed_time').mean().alias('Average Elapsed Time'),\n",
        "    pl.col('accuracy').mean().alias('Average Accuracy'),\n",
        "    pl.col('elapsed_time').std().alias('Standard Deviation - Elapsed Time'),\n",
        "    pl.col('accuracy').std().alias('Standard Deviation - Accuracy'),\n",
        "])\n",
        "\n",
        "num_features_df = df.group_by(\n",
        "    'num_features'\n",
        ").agg([\n",
        "    pl.col('elapsed_time').mean().alias('Average Elapsed Time'),\n",
        "    pl.col('accuracy').mean().alias('Average Accuracy'),\n",
        "    pl.col('elapsed_time').std().alias('Standard Deviation - Elapsed Time'),\n",
        "    pl.col('accuracy').std().alias('Standard Deviation - Accuracy'),\n",
        "])\n",
        "\n",
        "batch_size_df = df.group_by(\n",
        "    'batch_size'\n",
        ").agg([\n",
        "    pl.col('elapsed_time').mean().alias('Average Elapsed Time'),\n",
        "    pl.col('accuracy').mean().alias('Average Accuracy'),\n",
        "    pl.col('elapsed_time').std().alias('Standard Deviation - Elapsed Time'),\n",
        "    pl.col('accuracy').std().alias('Standard Deviation - Accuracy'),\n",
        "])"
      ],
      "metadata": {
        "id": "PLJUPFzI5k6l"
      },
      "execution_count": 79,
      "outputs": []
    },
    {
      "cell_type": "markdown",
      "source": [
        "Overall, there does not appear to be a large difference between the computational time and accuracy for filter sizes of 3 and 5."
      ],
      "metadata": {
        "id": "9HqDyQCaBVOa"
      }
    },
    {
      "cell_type": "code",
      "source": [
        "filter_size_df"
      ],
      "metadata": {
        "colab": {
          "base_uri": "https://localhost:8080/",
          "height": 160
        },
        "id": "uX5gOg8n7uDT",
        "outputId": "5d66109c-d623-4af9-fb97-80db364f0327"
      },
      "execution_count": 80,
      "outputs": [
        {
          "output_type": "execute_result",
          "data": {
            "text/plain": [
              "shape: (2, 5)\n",
              "┌─────────────┬─────────────────┬──────────────────┬───────────────────────┬───────────────────────┐\n",
              "│ filter_size ┆ Average Elapsed ┆ Average Accuracy ┆ Standard Deviation -  ┆ Standard Deviation -  │\n",
              "│ ---         ┆ Time            ┆ ---              ┆ Elapsed T…            ┆ Accuracy              │\n",
              "│ f64         ┆ ---             ┆ f64              ┆ ---                   ┆ ---                   │\n",
              "│             ┆ f64             ┆                  ┆ f64                   ┆ f64                   │\n",
              "╞═════════════╪═════════════════╪══════════════════╪═══════════════════════╪═══════════════════════╡\n",
              "│ 5.0         ┆ 48.365189       ┆ 91.421667        ┆ 14.264501             ┆ 0.713202              │\n",
              "│ 3.0         ┆ 42.525001       ┆ 91.231667        ┆ 11.814134             ┆ 0.922094              │\n",
              "└─────────────┴─────────────────┴──────────────────┴───────────────────────┴───────────────────────┘"
            ],
            "text/html": [
              "<div><style>\n",
              ".dataframe > thead > tr,\n",
              ".dataframe > tbody > tr {\n",
              "  text-align: right;\n",
              "  white-space: pre-wrap;\n",
              "}\n",
              "</style>\n",
              "<small>shape: (2, 5)</small><table border=\"1\" class=\"dataframe\"><thead><tr><th>filter_size</th><th>Average Elapsed Time</th><th>Average Accuracy</th><th>Standard Deviation - Elapsed Time</th><th>Standard Deviation - Accuracy</th></tr><tr><td>f64</td><td>f64</td><td>f64</td><td>f64</td><td>f64</td></tr></thead><tbody><tr><td>5.0</td><td>48.365189</td><td>91.421667</td><td>14.264501</td><td>0.713202</td></tr><tr><td>3.0</td><td>42.525001</td><td>91.231667</td><td>11.814134</td><td>0.922094</td></tr></tbody></table></div>"
            ]
          },
          "metadata": {},
          "execution_count": 80
        }
      ]
    },
    {
      "cell_type": "markdown",
      "source": [
        "From the analysis below, there is a large improvement in average accuracy with a small standard deviation when the number of features is 64 rather than 16."
      ],
      "metadata": {
        "id": "xneZpXipBgW0"
      }
    },
    {
      "cell_type": "code",
      "source": [
        "num_features_df"
      ],
      "metadata": {
        "colab": {
          "base_uri": "https://localhost:8080/",
          "height": 160
        },
        "id": "uXC9RZ0R72qo",
        "outputId": "62b551a0-d628-44d8-aa71-8949c3ae452f"
      },
      "execution_count": 81,
      "outputs": [
        {
          "output_type": "execute_result",
          "data": {
            "text/plain": [
              "shape: (2, 5)\n",
              "┌──────────────┬─────────────────┬──────────────────┬───────────────────────┬──────────────────────┐\n",
              "│ num_features ┆ Average Elapsed ┆ Average Accuracy ┆ Standard Deviation -  ┆ Standard Deviation - │\n",
              "│ ---          ┆ Time            ┆ ---              ┆ Elapsed T…            ┆ Accuracy             │\n",
              "│ f64          ┆ ---             ┆ f64              ┆ ---                   ┆ ---                  │\n",
              "│              ┆ f64             ┆                  ┆ f64                   ┆ f64                  │\n",
              "╞══════════════╪═════════════════╪══════════════════╪═══════════════════════╪══════════════════════╡\n",
              "│ 64.0         ┆ 48.591835       ┆ 92.013333        ┆ 10.80187              ┆ 0.089592             │\n",
              "│ 16.0         ┆ 42.298354       ┆ 90.64            ┆ 14.935504             ┆ 0.490836             │\n",
              "└──────────────┴─────────────────┴──────────────────┴───────────────────────┴──────────────────────┘"
            ],
            "text/html": [
              "<div><style>\n",
              ".dataframe > thead > tr,\n",
              ".dataframe > tbody > tr {\n",
              "  text-align: right;\n",
              "  white-space: pre-wrap;\n",
              "}\n",
              "</style>\n",
              "<small>shape: (2, 5)</small><table border=\"1\" class=\"dataframe\"><thead><tr><th>num_features</th><th>Average Elapsed Time</th><th>Average Accuracy</th><th>Standard Deviation - Elapsed Time</th><th>Standard Deviation - Accuracy</th></tr><tr><td>f64</td><td>f64</td><td>f64</td><td>f64</td><td>f64</td></tr></thead><tbody><tr><td>64.0</td><td>48.591835</td><td>92.013333</td><td>10.80187</td><td>0.089592</td></tr><tr><td>16.0</td><td>42.298354</td><td>90.64</td><td>14.935504</td><td>0.490836</td></tr></tbody></table></div>"
            ]
          },
          "metadata": {},
          "execution_count": 81
        }
      ]
    },
    {
      "cell_type": "markdown",
      "source": [
        "The best average computational time by far occurs when the batch size is 128, but this does come with a higher standard deviation than batch sizes of 32 and 64. The difference in the average accuracy between batch sizes is negligible, however, the standard deviation is much higher for a batch size of 128."
      ],
      "metadata": {
        "id": "skYlfcRcBqzV"
      }
    },
    {
      "cell_type": "code",
      "source": [
        "batch_size_df"
      ],
      "metadata": {
        "colab": {
          "base_uri": "https://localhost:8080/",
          "height": 192
        },
        "id": "yERdtNWn74n6",
        "outputId": "def7aca0-3ca6-49c9-ffbc-b9ed4668a328"
      },
      "execution_count": 82,
      "outputs": [
        {
          "output_type": "execute_result",
          "data": {
            "text/plain": [
              "shape: (3, 5)\n",
              "┌────────────┬─────────────────┬──────────────────┬────────────────────────┬───────────────────────┐\n",
              "│ batch_size ┆ Average Elapsed ┆ Average Accuracy ┆ Standard Deviation -   ┆ Standard Deviation -  │\n",
              "│ ---        ┆ Time            ┆ ---              ┆ Elapsed T…             ┆ Accuracy              │\n",
              "│ f64        ┆ ---             ┆ f64              ┆ ---                    ┆ ---                   │\n",
              "│            ┆ f64             ┆                  ┆ f64                    ┆ f64                   │\n",
              "╞════════════╪═════════════════╪══════════════════╪════════════════════════╪═══════════════════════╡\n",
              "│ 64.0       ┆ 41.73369        ┆ 91.475           ┆ 4.958218               ┆ 0.653682              │\n",
              "│ 128.0      ┆ 33.951398       ┆ 91.115           ┆ 7.529287               ┆ 1.165318              │\n",
              "│ 32.0       ┆ 60.650195       ┆ 91.39            ┆ 4.670874               ┆ 0.649051              │\n",
              "└────────────┴─────────────────┴──────────────────┴────────────────────────┴───────────────────────┘"
            ],
            "text/html": [
              "<div><style>\n",
              ".dataframe > thead > tr,\n",
              ".dataframe > tbody > tr {\n",
              "  text-align: right;\n",
              "  white-space: pre-wrap;\n",
              "}\n",
              "</style>\n",
              "<small>shape: (3, 5)</small><table border=\"1\" class=\"dataframe\"><thead><tr><th>batch_size</th><th>Average Elapsed Time</th><th>Average Accuracy</th><th>Standard Deviation - Elapsed Time</th><th>Standard Deviation - Accuracy</th></tr><tr><td>f64</td><td>f64</td><td>f64</td><td>f64</td><td>f64</td></tr></thead><tbody><tr><td>64.0</td><td>41.73369</td><td>91.475</td><td>4.958218</td><td>0.653682</td></tr><tr><td>128.0</td><td>33.951398</td><td>91.115</td><td>7.529287</td><td>1.165318</td></tr><tr><td>32.0</td><td>60.650195</td><td>91.39</td><td>4.670874</td><td>0.649051</td></tr></tbody></table></div>"
            ]
          },
          "metadata": {},
          "execution_count": 82
        }
      ]
    },
    {
      "cell_type": "markdown",
      "source": [
        "Another way that we can observe the effects of the hyperparameters on the performance of the CNN is by evaluating side by side boxplots for computational time and accuracy. From these, it appears that the number of features has the largest effect on accuracy and the batch size has the largest effect on computational time."
      ],
      "metadata": {
        "id": "YPo4A2H54ZHj"
      }
    },
    {
      "cell_type": "code",
      "source": [
        "sns.set(style=\"whitegrid\")\n",
        "fig, axs = plt.subplots(3, 2, figsize=(12, 12))\n",
        "\n",
        "\n",
        "sns.boxplot(x='filter_size', y='elapsed_time', data=df, ax=axs[0, 0])\n",
        "axs[0, 0].set_title('Elapsed Time by Filter Size')\n",
        "\n",
        "sns.boxplot(x='filter_size', y='accuracy', data=df, ax=axs[0, 1])\n",
        "axs[0, 1].set_title('Accuracy by Filter Size')\n",
        "\n",
        "sns.boxplot(x='num_features', y='elapsed_time', data=df, ax=axs[1, 0])\n",
        "axs[1, 0].set_title('Elapsed Time by Number of Features')\n",
        "\n",
        "sns.boxplot(x='num_features', y='accuracy', data=df, ax=axs[1, 1])\n",
        "axs[1, 1].set_title('Accuracy by Number of Features')\n",
        "\n",
        "sns.boxplot(x='batch_size', y='elapsed_time', data=df, ax=axs[2, 0])\n",
        "axs[2, 0].set_title('Elapsed Time by Batch Size')\n",
        "\n",
        "sns.boxplot(x='batch_size', y='accuracy', data=df, ax=axs[2, 1])\n",
        "axs[2, 1].set_title('Accuracy by Batch Size')\n",
        "\n",
        "plt.tight_layout()\n",
        "plt.show()"
      ],
      "metadata": {
        "colab": {
          "base_uri": "https://localhost:8080/",
          "height": 1000
        },
        "id": "QgVjwBw2JZVA",
        "outputId": "bc647c13-7dea-4205-9aac-b203239fc8a4"
      },
      "execution_count": 48,
      "outputs": [
        {
          "output_type": "display_data",
          "data": {
            "text/plain": [
              "<Figure size 1200x1200 with 6 Axes>"
            ],
            "image/png": "[encoded data removed]"
          },
          "metadata": {}
        }
      ]
    }
  ]
}